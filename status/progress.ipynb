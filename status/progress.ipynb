{
 "cells": [
  {
   "cell_type": "markdown",
   "metadata": {},
   "source": [
    "# DELVE survey progress plots"
   ]
  },
  {
   "cell_type": "markdown",
   "metadata": {},
   "source": [
    "This notebook generates a set of simple survey status plots.\n",
    "\n",
    "It was developed using the `ehn37` `conda` environment on the DES cluster at Fermilab."
   ]
  },
  {
   "cell_type": "markdown",
   "metadata": {},
   "source": [
    "## Boilerplate"
   ]
  },
  {
   "cell_type": "markdown",
   "metadata": {},
   "source": [
    "Simple boilerplate with needed `python` imports and notebook configuration."
   ]
  },
  {
   "cell_type": "markdown",
   "metadata": {},
   "source": [
    "### Imports"
   ]
  },
  {
   "cell_type": "code",
   "execution_count": null,
   "metadata": {},
   "outputs": [],
   "source": [
    "from IPython.core.display import display, HTML\n",
    "from functools import partial\n",
    "from collections import OrderedDict\n",
    "from io import StringIO\n",
    "from contextlib import redirect_stdout\n",
    "import os\n",
    "import sys\n",
    "import urllib\n",
    "import numpy as np\n",
    "import pandas as pd\n",
    "import matplotlib as mpl\n",
    "import matplotlib.pyplot as plt\n",
    "import cartopy\n",
    "import cartopy.crs as ccrs\n",
    "import astropy\n",
    "import astropy.coordinates\n",
    "import astropy.units as u\n",
    "import healpy\n",
    "import requests"
   ]
  },
  {
   "cell_type": "markdown",
   "metadata": {},
   "source": [
    "These should all be installable with `pip`, and probably `conda` is you prefer.\n",
    "The versions used in this execution:"
   ]
  },
  {
   "cell_type": "code",
   "execution_count": null,
   "metadata": {},
   "outputs": [],
   "source": [
    "print(\"python\", sys.version)\n",
    "for p in [np, pd, mpl, cartopy, astropy, healpy, requests]:\n",
    "    print(p.__name__, p.__version__)"
   ]
  },
  {
   "cell_type": "markdown",
   "metadata": {},
   "source": [
    "### `jupyter/ipython` magic."
   ]
  },
  {
   "cell_type": "code",
   "execution_count": null,
   "metadata": {},
   "outputs": [],
   "source": [
    "%matplotlib inline\n",
    "# %config InlineBackend.figure_format = 'svg'"
   ]
  },
  {
   "cell_type": "markdown",
   "metadata": {},
   "source": [
    "### Configuration"
   ]
  },
  {
   "cell_type": "code",
   "execution_count": null,
   "metadata": {},
   "outputs": [],
   "source": [
    "display(HTML(\"<style>.container { width:90% !important; }</style>\"))\n",
    "mpl.rcParams['figure.figsize'] = (8, 5)\n",
    "plt.style.use('ggplot')"
   ]
  },
  {
   "cell_type": "markdown",
   "metadata": {},
   "source": [
    "### Make the notebook reproducible"
   ]
  },
  {
   "cell_type": "code",
   "execution_count": null,
   "metadata": {},
   "outputs": [],
   "source": [
    "np.random.seed(6563)"
   ]
  },
  {
   "cell_type": "markdown",
   "metadata": {},
   "source": [
    "## Configuration"
   ]
  },
  {
   "cell_type": "markdown",
   "metadata": {},
   "source": [
    "Exposures planned for DELVE."
   ]
  },
  {
   "cell_type": "code",
   "execution_count": null,
   "metadata": {},
   "outputs": [],
   "source": [
    "target_source = 'https://github.com/kadrlica/obztak/blob/delve/obztak/data/delve-target-fields-v10.csv.gz?raw=true'\n",
    "schedule_source = 'https://github.com/delve-survey/observing/raw/master/data/schedule_through_2019B.txt'"
   ]
  },
  {
   "cell_type": "markdown",
   "metadata": {},
   "source": [
    "## Constants"
   ]
  },
  {
   "cell_type": "code",
   "execution_count": null,
   "metadata": {},
   "outputs": [],
   "source": [
    "EARTH_DIAMETER = 2*6378140\n",
    "ORTHO = ccrs.Orthographic(central_longitude=0, central_latitude=-89.99)\n",
    "LAEA = ccrs.LambertAzimuthalEqualArea(central_longitude=0, central_latitude=-89.99)\n",
    "STEREO = ccrs.SouthPolarStereo()\n",
    "PC = ccrs.PlateCarree()\n",
    "SITE = astropy.coordinates.EarthLocation.of_site('Cerro Tololo')\n",
    "MJD_EPOCH = pd.to_datetime(\"1858-11-17T00:00:00+00:00\", infer_datetime_format=True)\n",
    "DECAM_AREA = 2.78 ;# Footprint of DECam good pixels in square degrees"
   ]
  },
  {
   "cell_type": "markdown",
   "metadata": {},
   "source": [
    "## Get planned DELVE exposures"
   ]
  },
  {
   "cell_type": "markdown",
   "metadata": {},
   "source": [
    "Actually read the field list from `obztak`:"
   ]
  },
  {
   "cell_type": "code",
   "execution_count": null,
   "metadata": {},
   "outputs": [],
   "source": [
    "all_target_fields = pd.read_csv(target_source, compression='gzip', comment=\"#\")\n",
    "real_fields_query = \"(PRIORITY>0 or PROGRAM=='delve-deep') and not (PROGRAM=='delve-wide' and TILING==4)\"\n",
    "target_fields = all_target_fields.query(real_fields_query)"
   ]
  },
  {
   "cell_type": "markdown",
   "metadata": {},
   "source": [
    "## Get completed DELVE exposures"
   ]
  },
  {
   "cell_type": "markdown",
   "metadata": {},
   "source": [
    "There are a few ways of getting the exposure data from the SISPI database. They all ultimately get data from the following query:"
   ]
  },
  {
   "cell_type": "code",
   "execution_count": null,
   "metadata": {},
   "outputs": [],
   "source": [
    "completed_query = \"\"\"\n",
    "SELECT id, date, flavor, ra, declination AS decl, filter AS band, exptime,\n",
    "       qc_fwhm, qc_sky, qc_cloud, qc_teff, qc_eps,\n",
    "       ha, zd, az, moonangl, lst, propid,\n",
    "       program, object, seqid,\n",
    "       hex_id, tiling_id\n",
    "FROM exposure.exposure\n",
    "WHERE NOT aborted\n",
    "  AND ( qc_teff > 0.3 OR (propid IN ('2019A-0305')) OR (object LIKE '%DELVE%') )\n",
    "  AND exptime >= 30\n",
    "  AND flavor = 'object'\n",
    "ORDER BY id\n",
    "\"\"\""
   ]
  },
  {
   "cell_type": "markdown",
   "metadata": {},
   "source": [
    "Here, I query the SISPI database using the Fermilab mirror of the DECam telemetry viewer."
   ]
  },
  {
   "cell_type": "code",
   "execution_count": null,
   "metadata": {},
   "outputs": [],
   "source": [
    "tv_url = 'http://des-ops.fnal.gov:8080/TV/app/Q/index'\n",
    "post_fields = {'namespace': 'exposure',\n",
    "               'output': 'csv',\n",
    "               'sql': completed_query}\n",
    "result = requests.post(tv_url, post_fields)\n",
    "decam_completed = pd.read_csv(StringIO(result.content.decode('utf-8')), parse_dates=['date'])"
   ]
  },
  {
   "cell_type": "markdown",
   "metadata": {},
   "source": [
    "Supplement the queried values."
   ]
  },
  {
   "cell_type": "code",
   "execution_count": null,
   "metadata": {},
   "outputs": [],
   "source": [
    "decam_completed['mjd'] = (decam_completed['date'] - MJD_EPOCH).dt.total_seconds()/(24*60*60)\n",
    "decam_completed['good'] = decam_completed.qc_teff > 0.3"
   ]
  },
  {
   "cell_type": "markdown",
   "metadata": {},
   "source": [
    "Look just at exposure taked as part of DELVE, and extract DELVE hex and tiling ids"
   ]
  },
  {
   "cell_type": "code",
   "execution_count": null,
   "metadata": {},
   "outputs": [],
   "source": [
    "completed = decam_completed.query('propid==\"2019A-0305\"').copy()\n",
    "completed['hex'] = completed['object'].str.extract(r'DELVE field: (\\d+)-..-.').astype(float)\n",
    "completed['tiling'] = completed['object'].str.extract(r'DELVE field: \\d+-(\\d\\d)-.').astype(float)"
   ]
  },
  {
   "cell_type": "markdown",
   "metadata": {},
   "source": [
    "## Map planned exposures"
   ]
  },
  {
   "cell_type": "code",
   "execution_count": null,
   "metadata": {},
   "outputs": [],
   "source": [
    "bands = target_fields['FILTER'].unique()\n",
    "subplot_size = 4\n",
    "fig = plt.figure(figsize=(4*subplot_size, len(bands)*subplot_size))\n",
    "\n",
    "for band_idx, band in enumerate(bands):\n",
    "    for tiling in np.arange(1,5):\n",
    "        axes = fig.add_subplot(len(bands), 4, tiling + 4*band_idx, projection=LAEA)\n",
    "        \n",
    "        if tiling <= 3:\n",
    "            these_fields = target_fields.query(f'FILTER==\"{band}\" and TILING=={tiling}')\n",
    "            these_completed = completed.query(f'band==\"{band}\" and tiling=={tiling} and good')\n",
    "            these_bad = completed.query(f'band==\"{band}\" and tiling=={tiling} and not good')\n",
    "            axes.set_title(f'tiling {tiling} in {band}')\n",
    "        else:\n",
    "            these_fields = target_fields.query(f'FILTER==\"{band}\" and TILING>={tiling}')\n",
    "            these_completed = completed.query(f'band==\"{band}\" and tiling>={tiling} and good')\n",
    "            these_bad = completed.query(f'band==\"{band}\" and tiling>={tiling} and not good')\n",
    "            axes.set_title(f'tiling >= {tiling} in {band}')\n",
    "            \n",
    "        axes.scatter(these_fields.RA, these_fields.DEC, s=1, c='gray', transform=PC)\n",
    "        axes.scatter(these_bad.ra, these_bad.decl, c='red', s=1, transform=PC)\n",
    "        axes.scatter(these_completed.ra, these_completed.decl, c='blue', s=1, transform=PC)\n",
    "        \n",
    "        axes.set_xlim(-0.8*EARTH_DIAMETER, 0.8*EARTH_DIAMETER)\n",
    "        axes.set_ylim(-0.8*EARTH_DIAMETER, 0.8*EARTH_DIAMETER)\n",
    "\n",
    "        axes.set_xlim(reversed(axes.get_xlim()))\n",
    "        gl = axes.gridlines(crs=PC, draw_labels=False, color='gray')\n",
    "\n",
    "        meridian_ra = np.arange(0, 360+90, 90)\n",
    "        meridian_decl = {ra: 30 for ra in meridian_ra}\n",
    "        meridian_label = {ra: \"$%d^\\circ$\" % ra for ra in meridian_ra}\n",
    "        meridian_params = {ra: {'horizontalalignment': 'center', 'verticalalignment': 'center', 'color': 'gray', 'weight': 'bold', 'transform': PC} for ra in meridian_ra}\n",
    "        gl.xlocator = mpl.ticker.FixedLocator(meridian_ra)\n",
    "        gl.xformatter = cartopy.mpl.gridliner.LONGITUDE_FORMATTER\n",
    "        meridian_labels = [axes.text(ra, meridian_decl[ra], meridian_label[ra], **meridian_params[ra]) for ra in meridian_ra if 1 < ra < 350]\n",
    "\n",
    "        parallel_decl = np.arange(-90, 60, 30)\n",
    "        parallel_ra = {decl: 50 for decl in parallel_decl}\n",
    "        parallel_label = {decl: \"$%d^\\circ$\" % decl for decl in parallel_decl}\n",
    "        parallel_params = {ra: {'horizontalalignment': 'right', 'verticalalignment': 'center', 'color': 'gray', 'weight': 'bold', 'transform': PC} for ra in parallel_ra}\n",
    "\n",
    "        gl.ylocator = mpl.ticker.FixedLocator(parallel_decl)\n",
    "        gl.yformatter = cartopy.mpl.gridliner.LATITUDE_FORMATTER\n",
    "        parallel_labels = [axes.text(parallel_ra[decl], decl, parallel_label[decl], **parallel_params[decl]) for decl in parallel_decl if 10 > decl > -88]\n"
   ]
  },
  {
   "cell_type": "markdown",
   "metadata": {},
   "source": [
    "## Comparison to schedule"
   ]
  },
  {
   "cell_type": "code",
   "execution_count": null,
   "metadata": {},
   "outputs": [],
   "source": [
    "schedule = pd.read_csv(schedule_source, parse_dates=[0], sep=\"\\t\").query('propid == \"0305\"')"
   ]
  },
  {
   "cell_type": "code",
   "execution_count": null,
   "metadata": {},
   "outputs": [],
   "source": [
    "def twilight_times(night_mjds, which_direction='down', which_night='nearest', alt=-14.0, location=SITE, body='sun', tolerance=1e-8, max_iter=5):\n",
    "    \"\"\"Find morning or evening twilight using Newton's iterative method\n",
    "    \n",
    "    This only works at central latitudes!\n",
    "    \n",
    "    Args:\n",
    "        night_mjds - numpy array of MJDs of nights (integers)\n",
    "        which_twilight -- 'evening' or 'morning'\n",
    "        alt -- altitude of twilight, in degrees\n",
    "        location -- astropy.coordinates.EarthLocation for site\n",
    "        tolerance -- tolerance for twilight altitude, in degrees\n",
    "        max_iter -- maximum iterations in Newton's method\n",
    "        \n",
    "    Returns:\n",
    "        numpy array of mjds\n",
    "    \n",
    "    \"\"\"\n",
    "    event_direction = 1 if which_direction=='down' else -1\n",
    "    \n",
    "    night_wraps = {'previous': 0.0, 'nearest': 180.0, 'next': 360.0}\n",
    "    night_wrap = night_wraps[which_night]\n",
    " \n",
    "    mjds = night_mjds\n",
    "\n",
    "    # Get close (to of order body motion per day)\n",
    "    times = astropy.time.Time(mjds, scale='utc', format='mjd', location=location)\n",
    "    lsts = times.sidereal_time('apparent', longitude=location.lon)\n",
    "    crds = astropy.coordinates.get_body(body, times, location=location)\n",
    "    hour_angles = (lsts - crds.ra)\n",
    "    event_hour_angles = event_direction * np.arccos(\n",
    "        (np.sin(np.radians(alt)) - np.sin(crds.dec)*np.sin(location.lat))\n",
    "        /(np.cos(crds.dec)*np.cos(location.lat)) )\n",
    "    event_hour_angles = astropy.coordinates.Angle(event_hour_angles, unit=u.radian)\n",
    "    ha_diff = (event_hour_angles - hour_angles).wrap_at(night_wrap*u.deg)\n",
    "    mjds = mjds + ha_diff.radian*(0.9972696/(2*np.pi))\n",
    "    \n",
    "    # Refine using Newton's method\n",
    "    for iter_idx in range(max_iter):\n",
    "        times = astropy.time.Time(mjds, scale='utc', format='mjd', location=location)\n",
    "        crds = astropy.coordinates.get_body(body, times, location=location)\n",
    "        current_alt = crds.transform_to(astropy.coordinates.AltAz(obstime=times, location=location)).alt\n",
    "        finished = np.max(np.abs(current_alt.deg - alt)) < tolerance\n",
    "        if finished:\n",
    "            break\n",
    "            \n",
    "        current_sinalt = np.sin(current_alt.rad)\n",
    "        target_sinalt = np.sin(np.radians(alt))\n",
    "\n",
    "        ha = times.sidereal_time('apparent') - crds.ra\n",
    "        # Derivative of the standard formula for sin(alt) in terms of decl, latitude, and HA\n",
    "        dsinalt_dlst = (-1*np.cos(crds.dec)*np.cos(location.lat)*np.sin(ha)).value\n",
    "        dsinalt_dmjd = dsinalt_dlst * (2*np.pi/0.9972696)\n",
    "        mjds = mjds - (current_sinalt - target_sinalt)/dsinalt_dmjd\n",
    "    \n",
    "    if np.max(np.abs(mjds - night_mjds)) > 1:\n",
    "        warn(\"On some nights, found twilight more than a day away from the night mjd\")\n",
    "    \n",
    "    if not finished:\n",
    "        warn(\"twilight_times did not converge\")\n",
    "    \n",
    "    return mjds"
   ]
  },
  {
   "cell_type": "code",
   "execution_count": null,
   "metadata": {},
   "outputs": [],
   "source": [
    "schedule['evening'] = twilight_times(schedule.mjd, 'down')\n",
    "schedule['morning'] = twilight_times(schedule.mjd, 'up')\n",
    "schedule['midnight'] = 0.5*(schedule.morning+schedule.evening)\n",
    "schedule['duration'] = 0.5*(schedule.morning-schedule.evening)"
   ]
  },
  {
   "cell_type": "code",
   "execution_count": null,
   "metadata": {},
   "outputs": [],
   "source": [
    "schedule.describe().T"
   ]
  },
  {
   "cell_type": "code",
   "execution_count": null,
   "metadata": {},
   "outputs": [],
   "source": [
    "start_mjd = min(schedule.mjd.min(), completed.mjd.min())-1\n",
    "end_mjd = max(schedule.mjd.max(), completed.mjd.max())+2\n",
    "mjds = np.arange(start_mjd, end_mjd, 1)\n",
    "progress = pd.DataFrame({'mjd': mjds, 'exptime': 0, 'duration': 0})\n",
    "progress.set_index('mjd', inplace=True)\n",
    "progress['duration'] = schedule.groupby('mjd').duration.sum()\n",
    "progress.fillna(0, inplace=True)\n",
    "progress['cum_sched'] = progress.duration.cumsum()\n",
    "\n",
    "completed['night_mjd'] = np.floor(completed.mjd - 0.9)\n",
    "completed['obstime'] = completed.exptime + 30\n",
    "progress['all_obstime'] = completed.groupby('night_mjd').agg({'obstime': 'sum'})\n",
    "progress['good_obstime'] = completed.query('qc_teff>0.2').groupby('night_mjd').agg({'obstime': 'sum'})\n",
    "progress.fillna(0, inplace=True)\n",
    "progress['cum_all_obstime'] = progress.all_obstime.cumsum()/(24*60*60)\n",
    "progress['cum_good_obstime'] = progress.good_obstime.cumsum()/(24*60*60)\n",
    "\n",
    "progress.reset_index(inplace=True)\n",
    "progress['date'] = MJD_EPOCH + progress.mjd.apply(lambda d: pd.Timedelta(d, unit='D'))\n",
    "\n",
    "progress.describe().T"
   ]
  },
  {
   "cell_type": "code",
   "execution_count": null,
   "metadata": {},
   "outputs": [],
   "source": [
    "fig = plt.figure(figsize=(7,7))\n",
    "ax = fig.add_subplot(1, 1, 1)\n",
    "past = progress[progress['date'] < pd.Timestamp.now(tz=progress['date'][0].tz)]\n",
    "past.plot('date', 'cum_good_obstime', drawstyle=\"steps-post\", c='k', ax=ax, label='good observing time')\n",
    "past.plot('date', 'cum_all_obstime', drawstyle=\"steps-post\", c='orange', ax=ax, label='all observing time')\n",
    "past.plot('date', 'cum_sched', c='r', drawstyle=\"steps-post\", ax=ax, label='scheduled time')"
   ]
  },
  {
   "cell_type": "markdown",
   "metadata": {},
   "source": [
    "## Overall depth map"
   ]
  },
  {
   "cell_type": "markdown",
   "metadata": {},
   "source": [
    "Plot the total `qc_teff * exptime` by healpixel, giving a rough idea of our coverage. For the DELVE wide target of 3 by 90 second tilings with `qc_teff>0.3`, this would be `3*90*0.3=81` seconds."
   ]
  },
  {
   "cell_type": "code",
   "execution_count": null,
   "metadata": {},
   "outputs": [],
   "source": [
    "def teff_map(exposures, nside=32, **kwargs):\n",
    "    exposures = exposures.copy()\n",
    "    exposures['hpix'] = healpy.pixelfunc.ang2pix(nside, \n",
    "                                                 exposures['ra'], \n",
    "                                                 exposures['decl'],\n",
    "                                                 lonlat=True)\n",
    "    exposures['totteff'] = exposures['exptime']*exposures['qc_teff']\n",
    "    depth_df = exposures.groupby('hpix').totteff.sum().reset_index().set_index('hpix', drop=False)\n",
    "    npix = healpy.nside2npix(nside)\n",
    "    depth = np.zeros(npix)\n",
    "    depth[depth_df.hpix] = depth_df.totteff * DECAM_AREA / healpy.nside2pixarea(nside, degrees=True)\n",
    "    healpy.azeqview(np.ma.masked_where(depth==0, depth),\n",
    "                rot=(0, -90, 0), reso=18, lamb=True, **kwargs)\n",
    "    healpy.visufunc.graticule()\n"
   ]
  },
  {
   "cell_type": "code",
   "execution_count": null,
   "metadata": {},
   "outputs": [],
   "source": [
    "def multi_teff_map(completed, nside=32, bands=['u','g','r','i','z','Y','VR'], size=4, ncols=3, **kwargs):\n",
    "    nbands = len(bands)\n",
    "    nrows = int(np.ceil(nbands/ncols))\n",
    "    fig, axes2d = plt.subplots(nrows, ncols, figsize=(ncols*size, nrows*size*1.2))\n",
    "    axes = axes2d.flatten()\n",
    "    for ax, band in zip(axes[:nbands], bands):\n",
    "        plt.sca(ax)\n",
    "        exposures = completed.query(f'qc_teff>0.3 and band==\"{band}\"').copy()\n",
    "        teff_map(exposures, hold=True, title=f\"Total t_eff, {band} band\", **kwargs)\n",
    "    \n",
    "    for ax in axes[nbands:]:\n",
    "        ax.set_visible(False)"
   ]
  },
  {
   "cell_type": "code",
   "execution_count": null,
   "metadata": {},
   "outputs": [],
   "source": [
    "multi_teff_map(decam_completed, bands=['g','r','i','z','Y','VR'], min=0, max=90, cmap='viridis')"
   ]
  }
 ],
 "metadata": {
  "kernelspec": {
   "display_name": "Python (ehn37)",
   "language": "python",
   "name": "ehn37"
  },
  "language_info": {
   "codemirror_mode": {
    "name": "ipython",
    "version": 3
   },
   "file_extension": ".py",
   "mimetype": "text/x-python",
   "name": "python",
   "nbconvert_exporter": "python",
   "pygments_lexer": "ipython3",
   "version": "3.7.3"
  }
 },
 "nbformat": 4,
 "nbformat_minor": 2
}
